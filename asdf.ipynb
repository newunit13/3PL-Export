{
 "metadata": {
  "language_info": {
   "codemirror_mode": {
    "name": "ipython",
    "version": 3
   },
   "file_extension": ".py",
   "mimetype": "text/x-python",
   "name": "python",
   "nbconvert_exporter": "python",
   "pygments_lexer": "ipython3",
   "version": "3.8.3-final"
  },
  "orig_nbformat": 2,
  "kernelspec": {
   "name": "python3",
   "display_name": "Python 3"
  }
 },
 "nbformat": 4,
 "nbformat_minor": 2,
 "cells": [
  {
   "cell_type": "code",
   "execution_count": 1,
   "metadata": {
    "tags": []
   },
   "outputs": [
    {
     "output_type": "stream",
     "name": "stdout",
     "text": "GetAccessToken() called.\nGetAccessToken() took 0.19 seconds.\tStatus Code: 200\n"
    }
   ],
   "source": [
    "import TPLC\n",
    "import pandas as pd\n",
    "import pyodbc "
   ]
  },
  {
   "cell_type": "code",
   "execution_count": 2,
   "metadata": {},
   "outputs": [],
   "source": [
    "conn = pyodbc.connect('Driver={SQL Server};'\n",
    "                      'Server=B4BSQL;'\n",
    "                      'Database=DynamicsAX_Prod;'\n",
    "                      'Trusted_Connection=yes;')\n",
    "cursor = conn.cursor()\n",
    "sql_query = '''\n",
    "SELECT\n",
    "\twms.WMSLOCATIONID\t\t\t\t\t[Location]\n",
    "\t,ISNULL(SUM(ins.PHYSICALINVENT),0)\t[Qty]\n",
    "FROM WMSLOCATION wms\n",
    "LEFT JOIN INVENTDIM ind ON ind.WMSLOCATIONID = wms.WMSLOCATIONID AND ind.DATAAREAID = wms.DATAAREAID\n",
    "LEFT JOIN INVENTSUM ins ON ins.INVENTDIMID = ind.INVENTDIMID and ins.DATAAREAID = ind.DATAAREAID\n",
    "WHERE wms.DATAAREAID = 'ssl'\n",
    "  AND wms.INVENTLOCATIONID in ('Progress')\n",
    "  AND LEFT(wms.WMSLOCATIONID, 1) = 'N'\n",
    "GROUP BY wms.INVENTLOCATIONID, wms.WMSLOCATIONID\n",
    "ORDER BY wms.INVENTLOCATIONID, wms.WMSLOCATIONID\n",
    "'''\n",
    "\n",
    "dax_data = pd.read_sql_query(sql_query, conn, index_col='Location')"
   ]
  },
  {
   "cell_type": "code",
   "execution_count": 3,
   "metadata": {
    "tags": []
   },
   "outputs": [
    {
     "output_type": "stream",
     "name": "stdout",
     "text": "Gathering page 1.\t0 out of 6873 [0.00%]\n"
    }
   ],
   "source": [
    "# Collect 3PL Data\n",
    "locations_raw = TPLC.GetLocations(pgsiz=10000, rql=\"facilityIdentifier.id==2;deactivated==False\")\n",
    "locations = {location[\"name\"]: location[\"hasInventory\"] for location in locations_raw}\n",
    "\n",
    "# Convert 3PL Data into DataFrame\n",
    "tpl_data = pd.DataFrame.from_dict(locations, orient='index')\n",
    "tpl_data.index.name = 'Location'"
   ]
  },
  {
   "cell_type": "code",
   "execution_count": 17,
   "metadata": {},
   "outputs": [],
   "source": [
    "data = tpl_data.merge(dax_data, how='left', left_index=True, right_index=True)"
   ]
  },
  {
   "cell_type": "code",
   "execution_count": 18,
   "metadata": {},
   "outputs": [
    {
     "output_type": "execute_result",
     "data": {
      "text/plain": "              0   Qty\nLocation             \nN05W12    False  96.0\nN05W11    False  12.0\nN05W10    False  26.0\nN05W09    False  13.0\nN05W08    False  43.0\n...         ...   ...\nSW02A05   False   NaN\nSW02A04    True   NaN\nSW02A03    True   NaN\nSW02A02    True   NaN\nSW02A01    True   NaN\n\n[6873 rows x 2 columns]",
      "text/html": "<div>\n<style scoped>\n    .dataframe tbody tr th:only-of-type {\n        vertical-align: middle;\n    }\n\n    .dataframe tbody tr th {\n        vertical-align: top;\n    }\n\n    .dataframe thead th {\n        text-align: right;\n    }\n</style>\n<table border=\"1\" class=\"dataframe\">\n  <thead>\n    <tr style=\"text-align: right;\">\n      <th></th>\n      <th>0</th>\n      <th>Qty</th>\n    </tr>\n    <tr>\n      <th>Location</th>\n      <th></th>\n      <th></th>\n    </tr>\n  </thead>\n  <tbody>\n    <tr>\n      <th>N05W12</th>\n      <td>False</td>\n      <td>96.0</td>\n    </tr>\n    <tr>\n      <th>N05W11</th>\n      <td>False</td>\n      <td>12.0</td>\n    </tr>\n    <tr>\n      <th>N05W10</th>\n      <td>False</td>\n      <td>26.0</td>\n    </tr>\n    <tr>\n      <th>N05W09</th>\n      <td>False</td>\n      <td>13.0</td>\n    </tr>\n    <tr>\n      <th>N05W08</th>\n      <td>False</td>\n      <td>43.0</td>\n    </tr>\n    <tr>\n      <th>...</th>\n      <td>...</td>\n      <td>...</td>\n    </tr>\n    <tr>\n      <th>SW02A05</th>\n      <td>False</td>\n      <td>NaN</td>\n    </tr>\n    <tr>\n      <th>SW02A04</th>\n      <td>True</td>\n      <td>NaN</td>\n    </tr>\n    <tr>\n      <th>SW02A03</th>\n      <td>True</td>\n      <td>NaN</td>\n    </tr>\n    <tr>\n      <th>SW02A02</th>\n      <td>True</td>\n      <td>NaN</td>\n    </tr>\n    <tr>\n      <th>SW02A01</th>\n      <td>True</td>\n      <td>NaN</td>\n    </tr>\n  </tbody>\n</table>\n<p>6873 rows × 2 columns</p>\n</div>"
     },
     "metadata": {},
     "execution_count": 18
    }
   ],
   "source": [
    "data"
   ]
  }
 ]
}